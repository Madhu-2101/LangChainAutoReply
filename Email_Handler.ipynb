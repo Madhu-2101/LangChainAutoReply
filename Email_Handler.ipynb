{
  "nbformat": 4,
  "nbformat_minor": 0,
  "metadata": {
    "colab": {
      "provenance": [],
      "authorship_tag": "ABX9TyP9Y3zO3wYOkaMm/KHE95rc",
      "include_colab_link": true
    },
    "kernelspec": {
      "name": "python3",
      "display_name": "Python 3"
    },
    "language_info": {
      "name": "python"
    },
    "widgets": {
      "application/vnd.jupyter.widget-state+json": {
        "caeb684e9c344cddad06ffe8fe6ba5fa": {
          "model_module": "@jupyter-widgets/controls",
          "model_name": "TextareaModel",
          "model_module_version": "1.5.0",
          "state": {
            "_dom_classes": [],
            "_model_module": "@jupyter-widgets/controls",
            "_model_module_version": "1.5.0",
            "_model_name": "TextareaModel",
            "_view_count": null,
            "_view_module": "@jupyter-widgets/controls",
            "_view_module_version": "1.5.0",
            "_view_name": "TextareaView",
            "continuous_update": true,
            "description": "Email:",
            "description_tooltip": null,
            "disabled": false,
            "layout": "IPY_MODEL_7920fea7c63b477ca432ad4623065c2b",
            "placeholder": "Enter the email content here...",
            "rows": null,
            "style": "IPY_MODEL_87317b220ba149b4b233970d7d1b9623",
            "value": "hi there, \n\nHow does the ISO setting affect my photos?\n\n\nthanks,\npaul"
          }
        },
        "7920fea7c63b477ca432ad4623065c2b": {
          "model_module": "@jupyter-widgets/base",
          "model_name": "LayoutModel",
          "model_module_version": "1.2.0",
          "state": {
            "_model_module": "@jupyter-widgets/base",
            "_model_module_version": "1.2.0",
            "_model_name": "LayoutModel",
            "_view_count": null,
            "_view_module": "@jupyter-widgets/base",
            "_view_module_version": "1.2.0",
            "_view_name": "LayoutView",
            "align_content": null,
            "align_items": null,
            "align_self": null,
            "border": null,
            "bottom": null,
            "display": null,
            "flex": null,
            "flex_flow": null,
            "grid_area": null,
            "grid_auto_columns": null,
            "grid_auto_flow": null,
            "grid_auto_rows": null,
            "grid_column": null,
            "grid_gap": null,
            "grid_row": null,
            "grid_template_areas": null,
            "grid_template_columns": null,
            "grid_template_rows": null,
            "height": "200px",
            "justify_content": null,
            "justify_items": null,
            "left": null,
            "margin": null,
            "max_height": null,
            "max_width": null,
            "min_height": null,
            "min_width": null,
            "object_fit": null,
            "object_position": null,
            "order": null,
            "overflow": null,
            "overflow_x": null,
            "overflow_y": null,
            "padding": null,
            "right": null,
            "top": null,
            "visibility": null,
            "width": "100%"
          }
        },
        "87317b220ba149b4b233970d7d1b9623": {
          "model_module": "@jupyter-widgets/controls",
          "model_name": "DescriptionStyleModel",
          "model_module_version": "1.5.0",
          "state": {
            "_model_module": "@jupyter-widgets/controls",
            "_model_module_version": "1.5.0",
            "_model_name": "DescriptionStyleModel",
            "_view_count": null,
            "_view_module": "@jupyter-widgets/base",
            "_view_module_version": "1.2.0",
            "_view_name": "StyleView",
            "description_width": ""
          }
        },
        "7147dd7b70444cd2a888706459e295ed": {
          "model_module": "@jupyter-widgets/controls",
          "model_name": "ButtonModel",
          "model_module_version": "1.5.0",
          "state": {
            "_dom_classes": [],
            "_model_module": "@jupyter-widgets/controls",
            "_model_module_version": "1.5.0",
            "_model_name": "ButtonModel",
            "_view_count": null,
            "_view_module": "@jupyter-widgets/controls",
            "_view_module_version": "1.5.0",
            "_view_name": "ButtonView",
            "button_style": "success",
            "description": "Get Response",
            "disabled": false,
            "icon": "",
            "layout": "IPY_MODEL_67bd565eb2c1416188dd66c87e6dfd1a",
            "style": "IPY_MODEL_ba4521f794924b95944754cc73fc019d",
            "tooltip": ""
          }
        },
        "67bd565eb2c1416188dd66c87e6dfd1a": {
          "model_module": "@jupyter-widgets/base",
          "model_name": "LayoutModel",
          "model_module_version": "1.2.0",
          "state": {
            "_model_module": "@jupyter-widgets/base",
            "_model_module_version": "1.2.0",
            "_model_name": "LayoutModel",
            "_view_count": null,
            "_view_module": "@jupyter-widgets/base",
            "_view_module_version": "1.2.0",
            "_view_name": "LayoutView",
            "align_content": null,
            "align_items": null,
            "align_self": null,
            "border": null,
            "bottom": null,
            "display": null,
            "flex": null,
            "flex_flow": null,
            "grid_area": null,
            "grid_auto_columns": null,
            "grid_auto_flow": null,
            "grid_auto_rows": null,
            "grid_column": null,
            "grid_gap": null,
            "grid_row": null,
            "grid_template_areas": null,
            "grid_template_columns": null,
            "grid_template_rows": null,
            "height": null,
            "justify_content": null,
            "justify_items": null,
            "left": null,
            "margin": null,
            "max_height": null,
            "max_width": null,
            "min_height": null,
            "min_width": null,
            "object_fit": null,
            "object_position": null,
            "order": null,
            "overflow": null,
            "overflow_x": null,
            "overflow_y": null,
            "padding": null,
            "right": null,
            "top": null,
            "visibility": null,
            "width": null
          }
        },
        "ba4521f794924b95944754cc73fc019d": {
          "model_module": "@jupyter-widgets/controls",
          "model_name": "ButtonStyleModel",
          "model_module_version": "1.5.0",
          "state": {
            "_model_module": "@jupyter-widgets/controls",
            "_model_module_version": "1.5.0",
            "_model_name": "ButtonStyleModel",
            "_view_count": null,
            "_view_module": "@jupyter-widgets/base",
            "_view_module_version": "1.2.0",
            "_view_name": "StyleView",
            "button_color": null,
            "font_weight": ""
          }
        },
        "68c780a4ba26459ba4f94871f81bd404": {
          "model_module": "@jupyter-widgets/output",
          "model_name": "OutputModel",
          "model_module_version": "1.0.0",
          "state": {
            "_dom_classes": [],
            "_model_module": "@jupyter-widgets/output",
            "_model_module_version": "1.0.0",
            "_model_name": "OutputModel",
            "_view_count": null,
            "_view_module": "@jupyter-widgets/output",
            "_view_module_version": "1.0.0",
            "_view_name": "OutputView",
            "layout": "IPY_MODEL_dbe7c0ebaa46410bb38c4c8a543b7515",
            "msg_id": "",
            "outputs": [
              {
                "output_type": "stream",
                "name": "stdout",
                "text": [
                  "\n",
                  "Dear Paul,\n",
                  "\n",
                  "Thank you for reaching out to us about your question on how the ISO setting affects your photos. Unfortunately, I couldn't find the answer to this specific question in our resources. I'd be happy to escalate this issue to our customer service team, and they'll get back to you with a detailed response.\n",
                  "\n",
                  "Best regards,\n",
                  "Jhon, Customer Service.\n"
                ]
              }
            ]
          }
        },
        "dbe7c0ebaa46410bb38c4c8a543b7515": {
          "model_module": "@jupyter-widgets/base",
          "model_name": "LayoutModel",
          "model_module_version": "1.2.0",
          "state": {
            "_model_module": "@jupyter-widgets/base",
            "_model_module_version": "1.2.0",
            "_model_name": "LayoutModel",
            "_view_count": null,
            "_view_module": "@jupyter-widgets/base",
            "_view_module_version": "1.2.0",
            "_view_name": "LayoutView",
            "align_content": null,
            "align_items": null,
            "align_self": null,
            "border": null,
            "bottom": null,
            "display": null,
            "flex": null,
            "flex_flow": null,
            "grid_area": null,
            "grid_auto_columns": null,
            "grid_auto_flow": null,
            "grid_auto_rows": null,
            "grid_column": null,
            "grid_gap": null,
            "grid_row": null,
            "grid_template_areas": null,
            "grid_template_columns": null,
            "grid_template_rows": null,
            "height": null,
            "justify_content": null,
            "justify_items": null,
            "left": null,
            "margin": null,
            "max_height": null,
            "max_width": null,
            "min_height": null,
            "min_width": null,
            "object_fit": null,
            "object_position": null,
            "order": null,
            "overflow": null,
            "overflow_x": null,
            "overflow_y": null,
            "padding": null,
            "right": null,
            "top": null,
            "visibility": null,
            "width": null
          }
        }
      }
    }
  },
  "cells": [
    {
      "cell_type": "markdown",
      "metadata": {
        "id": "view-in-github",
        "colab_type": "text"
      },
      "source": [
        "<a href=\"https://colab.research.google.com/github/Madhu-2101/LangChainAutoReply/blob/main/Email_Handler.ipynb\" target=\"_parent\"><img src=\"https://colab.research.google.com/assets/colab-badge.svg\" alt=\"Open In Colab\"/></a>"
      ]
    },
    {
      "cell_type": "code",
      "execution_count": null,
      "metadata": {
        "colab": {
          "base_uri": "https://localhost:8080/"
        },
        "id": "EaBbIUqIwhmz",
        "outputId": "bed30cd7-ff09-4d42-db3d-a676d7c2b429"
      },
      "outputs": [
        {
          "output_type": "stream",
          "name": "stdout",
          "text": [
            "Reading package lists... Done\n",
            "Building dependency tree... Done\n",
            "Reading state information... Done\n",
            "sqlite3 is already the newest version (3.37.2-2ubuntu0.3).\n",
            "0 upgraded, 0 newly installed, 0 to remove and 45 not upgraded.\n",
            "Name: langgraph\n",
            "Version: 0.1.15\n",
            "Summary: Building stateful, multi-actor applications with LLMs\n",
            "Home-page: https://www.github.com/langchain-ai/langgraph\n",
            "Author: \n",
            "Author-email: \n",
            "License: MIT\n",
            "Location: /usr/local/lib/python3.10/dist-packages\n",
            "Requires: langchain-core\n",
            "Required-by: \n",
            "Requirement already satisfied: ipywidgets in /usr/local/lib/python3.10/dist-packages (7.7.1)\n",
            "Requirement already satisfied: ipykernel>=4.5.1 in /usr/local/lib/python3.10/dist-packages (from ipywidgets) (5.5.6)\n",
            "Requirement already satisfied: ipython-genutils~=0.2.0 in /usr/local/lib/python3.10/dist-packages (from ipywidgets) (0.2.0)\n",
            "Requirement already satisfied: traitlets>=4.3.1 in /usr/local/lib/python3.10/dist-packages (from ipywidgets) (5.7.1)\n",
            "Requirement already satisfied: widgetsnbextension~=3.6.0 in /usr/local/lib/python3.10/dist-packages (from ipywidgets) (3.6.7)\n",
            "Requirement already satisfied: ipython>=4.0.0 in /usr/local/lib/python3.10/dist-packages (from ipywidgets) (7.34.0)\n",
            "Requirement already satisfied: jupyterlab-widgets>=1.0.0 in /usr/local/lib/python3.10/dist-packages (from ipywidgets) (3.0.11)\n",
            "Requirement already satisfied: jupyter-client in /usr/local/lib/python3.10/dist-packages (from ipykernel>=4.5.1->ipywidgets) (6.1.12)\n",
            "Requirement already satisfied: tornado>=4.2 in /usr/local/lib/python3.10/dist-packages (from ipykernel>=4.5.1->ipywidgets) (6.3.3)\n",
            "Requirement already satisfied: setuptools>=18.5 in /usr/local/lib/python3.10/dist-packages (from ipython>=4.0.0->ipywidgets) (71.0.4)\n",
            "Requirement already satisfied: jedi>=0.16 in /usr/local/lib/python3.10/dist-packages (from ipython>=4.0.0->ipywidgets) (0.19.1)\n",
            "Requirement already satisfied: decorator in /usr/local/lib/python3.10/dist-packages (from ipython>=4.0.0->ipywidgets) (4.4.2)\n",
            "Requirement already satisfied: pickleshare in /usr/local/lib/python3.10/dist-packages (from ipython>=4.0.0->ipywidgets) (0.7.5)\n",
            "Requirement already satisfied: prompt-toolkit!=3.0.0,!=3.0.1,<3.1.0,>=2.0.0 in /usr/local/lib/python3.10/dist-packages (from ipython>=4.0.0->ipywidgets) (3.0.47)\n",
            "Requirement already satisfied: pygments in /usr/local/lib/python3.10/dist-packages (from ipython>=4.0.0->ipywidgets) (2.16.1)\n",
            "Requirement already satisfied: backcall in /usr/local/lib/python3.10/dist-packages (from ipython>=4.0.0->ipywidgets) (0.2.0)\n",
            "Requirement already satisfied: matplotlib-inline in /usr/local/lib/python3.10/dist-packages (from ipython>=4.0.0->ipywidgets) (0.1.7)\n",
            "Requirement already satisfied: pexpect>4.3 in /usr/local/lib/python3.10/dist-packages (from ipython>=4.0.0->ipywidgets) (4.9.0)\n",
            "Requirement already satisfied: notebook>=4.4.1 in /usr/local/lib/python3.10/dist-packages (from widgetsnbextension~=3.6.0->ipywidgets) (6.5.5)\n",
            "Requirement already satisfied: parso<0.9.0,>=0.8.3 in /usr/local/lib/python3.10/dist-packages (from jedi>=0.16->ipython>=4.0.0->ipywidgets) (0.8.4)\n",
            "Requirement already satisfied: jinja2 in /usr/local/lib/python3.10/dist-packages (from notebook>=4.4.1->widgetsnbextension~=3.6.0->ipywidgets) (3.1.4)\n",
            "Requirement already satisfied: pyzmq<25,>=17 in /usr/local/lib/python3.10/dist-packages (from notebook>=4.4.1->widgetsnbextension~=3.6.0->ipywidgets) (24.0.1)\n",
            "Requirement already satisfied: argon2-cffi in /usr/local/lib/python3.10/dist-packages (from notebook>=4.4.1->widgetsnbextension~=3.6.0->ipywidgets) (23.1.0)\n",
            "Requirement already satisfied: jupyter-core>=4.6.1 in /usr/local/lib/python3.10/dist-packages (from notebook>=4.4.1->widgetsnbextension~=3.6.0->ipywidgets) (5.7.2)\n",
            "Requirement already satisfied: nbformat in /usr/local/lib/python3.10/dist-packages (from notebook>=4.4.1->widgetsnbextension~=3.6.0->ipywidgets) (5.10.4)\n",
            "Requirement already satisfied: nbconvert>=5 in /usr/local/lib/python3.10/dist-packages (from notebook>=4.4.1->widgetsnbextension~=3.6.0->ipywidgets) (6.5.4)\n",
            "Requirement already satisfied: nest-asyncio>=1.5 in /usr/local/lib/python3.10/dist-packages (from notebook>=4.4.1->widgetsnbextension~=3.6.0->ipywidgets) (1.6.0)\n",
            "Requirement already satisfied: Send2Trash>=1.8.0 in /usr/local/lib/python3.10/dist-packages (from notebook>=4.4.1->widgetsnbextension~=3.6.0->ipywidgets) (1.8.3)\n",
            "Requirement already satisfied: terminado>=0.8.3 in /usr/local/lib/python3.10/dist-packages (from notebook>=4.4.1->widgetsnbextension~=3.6.0->ipywidgets) (0.18.1)\n",
            "Requirement already satisfied: prometheus-client in /usr/local/lib/python3.10/dist-packages (from notebook>=4.4.1->widgetsnbextension~=3.6.0->ipywidgets) (0.20.0)\n",
            "Requirement already satisfied: nbclassic>=0.4.7 in /usr/local/lib/python3.10/dist-packages (from notebook>=4.4.1->widgetsnbextension~=3.6.0->ipywidgets) (1.1.0)\n",
            "Requirement already satisfied: python-dateutil>=2.1 in /usr/local/lib/python3.10/dist-packages (from jupyter-client->ipykernel>=4.5.1->ipywidgets) (2.8.2)\n",
            "Requirement already satisfied: ptyprocess>=0.5 in /usr/local/lib/python3.10/dist-packages (from pexpect>4.3->ipython>=4.0.0->ipywidgets) (0.7.0)\n",
            "Requirement already satisfied: wcwidth in /usr/local/lib/python3.10/dist-packages (from prompt-toolkit!=3.0.0,!=3.0.1,<3.1.0,>=2.0.0->ipython>=4.0.0->ipywidgets) (0.2.13)\n",
            "Requirement already satisfied: platformdirs>=2.5 in /usr/local/lib/python3.10/dist-packages (from jupyter-core>=4.6.1->notebook>=4.4.1->widgetsnbextension~=3.6.0->ipywidgets) (4.2.2)\n",
            "Requirement already satisfied: notebook-shim>=0.2.3 in /usr/local/lib/python3.10/dist-packages (from nbclassic>=0.4.7->notebook>=4.4.1->widgetsnbextension~=3.6.0->ipywidgets) (0.2.4)\n",
            "Requirement already satisfied: lxml in /usr/local/lib/python3.10/dist-packages (from nbconvert>=5->notebook>=4.4.1->widgetsnbextension~=3.6.0->ipywidgets) (4.9.4)\n",
            "Requirement already satisfied: beautifulsoup4 in /usr/local/lib/python3.10/dist-packages (from nbconvert>=5->notebook>=4.4.1->widgetsnbextension~=3.6.0->ipywidgets) (4.12.3)\n",
            "Requirement already satisfied: bleach in /usr/local/lib/python3.10/dist-packages (from nbconvert>=5->notebook>=4.4.1->widgetsnbextension~=3.6.0->ipywidgets) (6.1.0)\n",
            "Requirement already satisfied: defusedxml in /usr/local/lib/python3.10/dist-packages (from nbconvert>=5->notebook>=4.4.1->widgetsnbextension~=3.6.0->ipywidgets) (0.7.1)\n",
            "Requirement already satisfied: entrypoints>=0.2.2 in /usr/local/lib/python3.10/dist-packages (from nbconvert>=5->notebook>=4.4.1->widgetsnbextension~=3.6.0->ipywidgets) (0.4)\n",
            "Requirement already satisfied: jupyterlab-pygments in /usr/local/lib/python3.10/dist-packages (from nbconvert>=5->notebook>=4.4.1->widgetsnbextension~=3.6.0->ipywidgets) (0.3.0)\n",
            "Requirement already satisfied: MarkupSafe>=2.0 in /usr/local/lib/python3.10/dist-packages (from nbconvert>=5->notebook>=4.4.1->widgetsnbextension~=3.6.0->ipywidgets) (2.1.5)\n",
            "Requirement already satisfied: mistune<2,>=0.8.1 in /usr/local/lib/python3.10/dist-packages (from nbconvert>=5->notebook>=4.4.1->widgetsnbextension~=3.6.0->ipywidgets) (0.8.4)\n",
            "Requirement already satisfied: nbclient>=0.5.0 in /usr/local/lib/python3.10/dist-packages (from nbconvert>=5->notebook>=4.4.1->widgetsnbextension~=3.6.0->ipywidgets) (0.10.0)\n",
            "Requirement already satisfied: packaging in /usr/local/lib/python3.10/dist-packages (from nbconvert>=5->notebook>=4.4.1->widgetsnbextension~=3.6.0->ipywidgets) (24.1)\n",
            "Requirement already satisfied: pandocfilters>=1.4.1 in /usr/local/lib/python3.10/dist-packages (from nbconvert>=5->notebook>=4.4.1->widgetsnbextension~=3.6.0->ipywidgets) (1.5.1)\n",
            "Requirement already satisfied: tinycss2 in /usr/local/lib/python3.10/dist-packages (from nbconvert>=5->notebook>=4.4.1->widgetsnbextension~=3.6.0->ipywidgets) (1.3.0)\n",
            "Requirement already satisfied: fastjsonschema>=2.15 in /usr/local/lib/python3.10/dist-packages (from nbformat->notebook>=4.4.1->widgetsnbextension~=3.6.0->ipywidgets) (2.20.0)\n",
            "Requirement already satisfied: jsonschema>=2.6 in /usr/local/lib/python3.10/dist-packages (from nbformat->notebook>=4.4.1->widgetsnbextension~=3.6.0->ipywidgets) (4.23.0)\n",
            "Requirement already satisfied: six>=1.5 in /usr/local/lib/python3.10/dist-packages (from python-dateutil>=2.1->jupyter-client->ipykernel>=4.5.1->ipywidgets) (1.16.0)\n",
            "Requirement already satisfied: argon2-cffi-bindings in /usr/local/lib/python3.10/dist-packages (from argon2-cffi->notebook>=4.4.1->widgetsnbextension~=3.6.0->ipywidgets) (21.2.0)\n",
            "Requirement already satisfied: attrs>=22.2.0 in /usr/local/lib/python3.10/dist-packages (from jsonschema>=2.6->nbformat->notebook>=4.4.1->widgetsnbextension~=3.6.0->ipywidgets) (23.2.0)\n",
            "Requirement already satisfied: jsonschema-specifications>=2023.03.6 in /usr/local/lib/python3.10/dist-packages (from jsonschema>=2.6->nbformat->notebook>=4.4.1->widgetsnbextension~=3.6.0->ipywidgets) (2023.12.1)\n",
            "Requirement already satisfied: referencing>=0.28.4 in /usr/local/lib/python3.10/dist-packages (from jsonschema>=2.6->nbformat->notebook>=4.4.1->widgetsnbextension~=3.6.0->ipywidgets) (0.35.1)\n",
            "Requirement already satisfied: rpds-py>=0.7.1 in /usr/local/lib/python3.10/dist-packages (from jsonschema>=2.6->nbformat->notebook>=4.4.1->widgetsnbextension~=3.6.0->ipywidgets) (0.19.0)\n",
            "Requirement already satisfied: jupyter-server<3,>=1.8 in /usr/local/lib/python3.10/dist-packages (from notebook-shim>=0.2.3->nbclassic>=0.4.7->notebook>=4.4.1->widgetsnbextension~=3.6.0->ipywidgets) (1.24.0)\n",
            "Requirement already satisfied: cffi>=1.0.1 in /usr/local/lib/python3.10/dist-packages (from argon2-cffi-bindings->argon2-cffi->notebook>=4.4.1->widgetsnbextension~=3.6.0->ipywidgets) (1.16.0)\n",
            "Requirement already satisfied: soupsieve>1.2 in /usr/local/lib/python3.10/dist-packages (from beautifulsoup4->nbconvert>=5->notebook>=4.4.1->widgetsnbextension~=3.6.0->ipywidgets) (2.5)\n",
            "Requirement already satisfied: webencodings in /usr/local/lib/python3.10/dist-packages (from bleach->nbconvert>=5->notebook>=4.4.1->widgetsnbextension~=3.6.0->ipywidgets) (0.5.1)\n",
            "Requirement already satisfied: pycparser in /usr/local/lib/python3.10/dist-packages (from cffi>=1.0.1->argon2-cffi-bindings->argon2-cffi->notebook>=4.4.1->widgetsnbextension~=3.6.0->ipywidgets) (2.22)\n",
            "Requirement already satisfied: anyio<4,>=3.1.0 in /usr/local/lib/python3.10/dist-packages (from jupyter-server<3,>=1.8->notebook-shim>=0.2.3->nbclassic>=0.4.7->notebook>=4.4.1->widgetsnbextension~=3.6.0->ipywidgets) (3.7.1)\n",
            "Requirement already satisfied: websocket-client in /usr/local/lib/python3.10/dist-packages (from jupyter-server<3,>=1.8->notebook-shim>=0.2.3->nbclassic>=0.4.7->notebook>=4.4.1->widgetsnbextension~=3.6.0->ipywidgets) (1.8.0)\n",
            "Requirement already satisfied: idna>=2.8 in /usr/local/lib/python3.10/dist-packages (from anyio<4,>=3.1.0->jupyter-server<3,>=1.8->notebook-shim>=0.2.3->nbclassic>=0.4.7->notebook>=4.4.1->widgetsnbextension~=3.6.0->ipywidgets) (3.7)\n",
            "Requirement already satisfied: sniffio>=1.1 in /usr/local/lib/python3.10/dist-packages (from anyio<4,>=3.1.0->jupyter-server<3,>=1.8->notebook-shim>=0.2.3->nbclassic>=0.4.7->notebook>=4.4.1->widgetsnbextension~=3.6.0->ipywidgets) (1.3.1)\n",
            "Requirement already satisfied: exceptiongroup in /usr/local/lib/python3.10/dist-packages (from anyio<4,>=3.1.0->jupyter-server<3,>=1.8->notebook-shim>=0.2.3->nbclassic>=0.4.7->notebook>=4.4.1->widgetsnbextension~=3.6.0->ipywidgets) (1.2.2)\n"
          ]
        }
      ],
      "source": [
        "# installing required libraries\n",
        "\n",
        "!apt-get install sqlite3\n",
        "!pip -q install langchain\n",
        "!pip -q install langchain-groq duckduckgo-search\n",
        "!pip -q install -U langchain_community tiktoken langchainhub\n",
        "!pip -q install -U langchain langgraph tavily-python\n",
        "!pip show langgraph\n",
        "!pip -q install faiss-cpu\n",
        "!pip install ipywidgets\n",
        "!pip -q install langchain_google_genai"
      ]
    },
    {
      "cell_type": "code",
      "source": [
        "import sqlite3\n",
        "import os\n",
        "import ipywidgets as widgets\n",
        "from google.colab import userdata\n",
        "from pprint import pprint\n",
        "from langchain_groq import ChatGroq\n",
        "from langchain_core.prompts import ChatPromptTemplate\n",
        "from langchain.prompts import PromptTemplate\n",
        "from langchain_core.output_parsers import StrOutputParser\n",
        "from langchain_core.output_parsers import JsonOutputParser\n",
        "from langchain.text_splitter import RecursiveCharacterTextSplitter\n",
        "from langchain.chains.combine_documents import create_stuff_documents_chain\n",
        "from langchain.chains import create_retrieval_chain\n",
        "from langchain_community.vectorstores import FAISS\n",
        "from langchain_google_genai import GoogleGenerativeAIEmbeddings\n",
        "from langchain.document_loaders import TextLoader\n",
        "from IPython.display import display, clear_output"
      ],
      "metadata": {
        "id": "GshzXC0Cw69L"
      },
      "execution_count": null,
      "outputs": []
    },
    {
      "cell_type": "code",
      "source": [
        "\n",
        "def setup_equipment_table():\n",
        "    conn = sqlite3.connect('film_equipment_rental.db')\n",
        "    cur = conn.cursor()\n",
        "\n",
        "    # Create Equipment table\n",
        "    cur.execute('''\n",
        "    CREATE TABLE IF NOT EXISTS Equipments (\n",
        "        id INTEGER PRIMARY KEY AUTOINCREMENT,\n",
        "        name TEXT NOT NULL,\n",
        "        category TEXT NOT NULL,\n",
        "        availability TEXT NOT NULL,\n",
        "        price REAL\n",
        "    )\n",
        "    ''')\n",
        "\n",
        "    # Insert sample data\n",
        "    cur.execute(\"INSERT INTO Equipments (name, category, availability, price) VALUES (?, ?, ?, ?)\", ('sony', 'camera', 'true', 599.99))\n",
        "    cur.execute(\"INSERT INTO Equipments (name, category, availability, price) VALUES (?, ?, ?, ?)\", ('dslr', 'camera', 'false', 399.99))\n",
        "    cur.execute(\"INSERT INTO Equipments (name, category, availability, price) VALUES (?, ?, ?, ?)\", ('canon', 'camera', 'true', 799.99))\n",
        "    cur.execute(\"INSERT INTO Equipments (name, category, availability, price) VALUES (?, ?, ?, ?)\", ('nikon', 'camera', 'true', 899.99))\n",
        "    conn.commit()\n",
        "    cur.close()\n",
        "    conn.close()\n",
        "\n",
        "setup_equipment_table()\n"
      ],
      "metadata": {
        "id": "9dDcDL74yJ9p"
      },
      "execution_count": null,
      "outputs": []
    },
    {
      "cell_type": "code",
      "source": [
        "def verify_new_database():\n",
        "    conn = sqlite3.connect('film_equipment_rental.db')\n",
        "    cur = conn.cursor()\n",
        "\n",
        "    # Query to select all data from Equipment table\n",
        "    cur.execute(\"SELECT * FROM Equipments\")\n",
        "    rows = cur.fetchall()\n",
        "\n",
        "    for row in rows:\n",
        "        print(row)\n",
        "\n",
        "    cur.close()\n",
        "    conn.close()\n",
        "\n",
        "verify_new_database()\n"
      ],
      "metadata": {
        "colab": {
          "base_uri": "https://localhost:8080/"
        },
        "id": "_iu2UoKEy6pB",
        "outputId": "6c85e72d-d21a-4c93-da85-ff97caf0b6ee"
      },
      "execution_count": null,
      "outputs": [
        {
          "output_type": "stream",
          "name": "stdout",
          "text": [
            "(1, 'sony', 'camera', 'true', 599.99)\n",
            "(2, 'dslr', 'camera', 'false', 399.99)\n",
            "(3, 'canon', 'camera', 'true', 799.99)\n",
            "(4, 'nikon', 'camera', 'true', 899.99)\n"
          ]
        }
      ]
    },
    {
      "cell_type": "code",
      "source": [
        "def get_product_info(product_name):\n",
        "    \"\"\"\n",
        "    Retrieves the price of the product if available,\n",
        "    or provides similar items if the product is not available.\n",
        "\n",
        "    Args:\n",
        "    - product_name (str): The name of the product to check.\n",
        "\n",
        "    Returns:\n",
        "    - dict: A dictionary containing the product price if available,\n",
        "            or a list of similar items if not available.\n",
        "    \"\"\"\n",
        "    conn = sqlite3.connect('film_equipment_rental.db')\n",
        "    cur = conn.cursor()\n",
        "\n",
        "    query = \"\"\"\n",
        "        SELECT name, price\n",
        "        FROM Equipments\n",
        "        WHERE name = ? AND availability = 'true'\n",
        "\n",
        "        UNION ALL\n",
        "\n",
        "        SELECT name, price\n",
        "        FROM Equipments\n",
        "        WHERE category = (\n",
        "            SELECT category\n",
        "            FROM Equipments\n",
        "            WHERE name = ?\n",
        "        )\n",
        "        AND name <> ?\n",
        "        AND availability = 'true'\n",
        "        LIMIT 3;\n",
        "    \"\"\"\n",
        "\n",
        "    cur.execute(query, (product_name, product_name, product_name))\n",
        "    results = cur.fetchall()\n",
        "\n",
        "    cur.close()\n",
        "    conn.close()\n",
        "\n",
        "    # Check if the product is available\n",
        "    if any(result[0] == product_name for result in results):\n",
        "        # Return price of the specific product if found\n",
        "        price = next(result[1] for result in results if result[0] == product_name)\n",
        "        return {\n",
        "            \"name\": product_name,\n",
        "            \"available\": True,\n",
        "            \"price\": price\n",
        "        }\n",
        "    else:\n",
        "        # Return similar items if the product is not available\n",
        "        similar_items = [{\"name\": row[0], \"price\": row[1]} for row in results]\n",
        "        return {\n",
        "            \"name\": product_name,\n",
        "            \"available\": False,\n",
        "            \"similar_items\": similar_items\n",
        "        }"
      ],
      "metadata": {
        "id": "4YljmzOn0Rs0"
      },
      "execution_count": null,
      "outputs": []
    },
    {
      "cell_type": "code",
      "source": [
        "\n",
        "os.environ[\"GROQ_API_KEY\"] = userdata.get('GROQ_API_KEY')\n",
        "os.environ[\"TAVILY_API_KEY\"] = userdata.get('default')\n",
        "os.environ[\"GOOGLE_API_KEY\"] = userdata.get('GOOGLE_API_KEY')"
      ],
      "metadata": {
        "id": "SNJtFgQa1r_I"
      },
      "execution_count": null,
      "outputs": []
    },
    {
      "cell_type": "code",
      "source": [
        "GROQ_LLM = ChatGroq(\n",
        "            model=\"llama3-70b-8192\",\n",
        "        )"
      ],
      "metadata": {
        "id": "upOL9qG614cI"
      },
      "execution_count": null,
      "outputs": []
    },
    {
      "cell_type": "code",
      "source": [
        "prompt = PromptTemplate(\n",
        "    template=\"\"\"system\n",
        "    You are an expert Email Categorizer Agent. Your job is to accurately categorize an email into one of the following categories based on its content:\n",
        "\n",
        "    - negative_review_handling: for complaints or negative feedback.\n",
        "    - product_enquiry: for inquiries about film equipments pricing only.\n",
        "    - positive_review_handling: for positive feedback or praise.\n",
        "    - assistance_request_handling: for requests for help or support with a product or any enqury about the film equipments.\n",
        "    - general_handling: for emails that do not fit into any of the above categories.\n",
        "\n",
        "    Provide only one category from the list above.\n",
        "\n",
        "    EMAIL CONTENT:\\n\\n {initial_email} \\n\\n\n",
        "\n",
        "    assistant\n",
        "    \"\"\",\n",
        "    input_variables=[\"initial_email\"],\n",
        ")\n",
        "\n",
        "email_category_generator = prompt | GROQ_LLM | StrOutputParser()"
      ],
      "metadata": {
        "id": "BJKO9cgj1_-N"
      },
      "execution_count": null,
      "outputs": []
    },
    {
      "cell_type": "code",
      "source": [
        "# Define the prompt template for extracting the product name\n",
        "\n",
        "search_product_name_prompt = PromptTemplate(\n",
        "    template=\"\"\"system\n",
        "    You are skilled at finding just the product name from an email (if the email contains 'sony camera', the product name should be considered as only 'sony') to search them in the database for their price.\n",
        "\n",
        "    Based on the INITIAL_EMAIL find the product name.\n",
        "    The parsed product name should be one word.\n",
        "    Just return the product name only.\n",
        "\n",
        "    INITIAL_EMAIL: {initial_email} \\n\n",
        "    assistant\"\"\",\n",
        "    input_variables=[\"initial_email\"],\n",
        ")\n",
        "\n",
        "# Generate product name\n",
        "product_name_generator = search_product_name_prompt | GROQ_LLM | StrOutputParser()\n",
        "\n",
        "\n",
        "\n",
        "\n",
        "# Define the prompt template for crafting the product review response\n",
        "product_review_prompt = PromptTemplate(\n",
        "    template=\"\"\"system\n",
        "    You are skilled at crafting responses to product inquiries based on INITIAL_EMAIL AND PRODUCT_DETAILS.\n",
        "    Your task is to handle an email inquiry about a product by providing a reply that includes the price of the product if it is available from the given PRODUCT_DETAILS (e.g., PRODUCT_DETAILS 'name': 'sony', 'available': True, 'price': 599.99) if the product is available, just reply with the price.\n",
        "\n",
        "    If the product is not available (e.g., PRODUCT_DETAILS 'name': 'dslr', 'available': False, 'similar_items': ['name': 'sony', 'price': 599.99, 'name': 'canon', 'price': 799.99, 'name': 'sony', 'price': 599.99]), you should suggest similar products from the product_details.\n",
        "    PRODUCT_DETAILS is the data extracted from the database. The generated response should be related to PRODUCT_DETAILS ONLY.\n",
        "    Based on the INITIAL_EMAIL and PRODUCT_DETAILS, generate the response.\n",
        "    Always sign off the email in an appropriate manner from XXXX, Customer Service.\n",
        "    Return the draft email as JSON with a single key 'draft_email' and no premable or explaination.\n",
        "\n",
        "    INITIAL_EMAIL: {initial_email} \\n\n",
        "    PRODUCT_DETAILS: {product_details} \\n\n",
        "    assistant\"\"\",\n",
        "    input_variables=[\"initial_email\", \"product_details\"],\n",
        ")\n",
        "\n",
        "\n",
        "\n",
        "# Generate the product review response\n",
        "\n",
        "product_review_generator = product_review_prompt | GROQ_LLM | StrOutputParser()\n",
        "\n"
      ],
      "metadata": {
        "id": "FWYUcL0s2lHN"
      },
      "execution_count": null,
      "outputs": []
    },
    {
      "cell_type": "code",
      "source": [
        "# Define the prompt template for handling reviews\n",
        "\n",
        "draft_review_generating_prompt = PromptTemplate(\n",
        "    template=\"\"\"system\n",
        "    You are the Email Writer Agent. Use the INITIAL_EMAIL and EMAIL_CATEGORY to write a thoughtful and helpful response.\n",
        "\n",
        "    - For 'negative_review_handling': Escalate to the CRM system for follow-up with a phone call from customer service and offer a gift voucher in the reply.\n",
        "    - For 'positive_review_handling': Thank the sender and encourage them to share their experience on social media.\n",
        "    - For 'general_handling': give a message stating that the email will forwarded to customer service for further evaluation with a thoughtful response\n",
        "    Always sign off the email in an appropriate manner from XXXX, Customer Service.\n",
        "\n",
        "    Return the draft email as JSON with a single key 'draft_email' and no premable or explaination.\n",
        "\n",
        "    INITIAL_EMAIL: {initial_email} \\n\n",
        "    EMAIL_CATEGORY: {email_category} \\n\n",
        "    assistant\"\"\",\n",
        "    input_variables=[\"initial_email\", \"email_category\"],\n",
        ")\n",
        "\n",
        "# Generate the review handling response\n",
        "\n",
        "draft_review_generator = draft_review_generating_prompt | GROQ_LLM | StrOutputParser()\n"
      ],
      "metadata": {
        "id": "_tMnMy_s3yKV"
      },
      "execution_count": null,
      "outputs": []
    },
    {
      "cell_type": "code",
      "source": [
        "prompt=ChatPromptTemplate.from_template(\n",
        "\"\"\"\n",
        "Answer the questions based on the provided context only.\n",
        "Please provide the most accurate response based on the question\n",
        "<context>\n",
        "{context}\n",
        "<context>\n",
        "Questions:{input}\n",
        "\n",
        "\"\"\"\n",
        ")"
      ],
      "metadata": {
        "id": "ViSRZzIw4tRp"
      },
      "execution_count": null,
      "outputs": []
    },
    {
      "cell_type": "code",
      "source": [
        "def vector_embedding():\n",
        "    embeddings = GoogleGenerativeAIEmbeddings(model=\"models/embedding-001\")\n",
        "    loader = TextLoader(\"/content/sample_data/FAQs.txt\")  # Data Ingestion\n",
        "    docs = loader.load()  # Document Loading\n",
        "    text_splitter = RecursiveCharacterTextSplitter(chunk_size=1000, chunk_overlap=200)  # Chunk Creation\n",
        "    final_documents = text_splitter.split_documents(docs[:20])  # Splitting\n",
        "    vectors = FAISS.from_documents(final_documents, embeddings)  # Vector OpenAI embeddings\n",
        "    return vectors\n",
        "\n"
      ],
      "metadata": {
        "id": "pv3pmtIG45eT"
      },
      "execution_count": null,
      "outputs": []
    },
    {
      "cell_type": "code",
      "source": [
        "\n",
        "def process_question(question):\n",
        "    vectors = vector_embedding()\n",
        "    document_chain = create_stuff_documents_chain(GROQ_LLM, prompt)\n",
        "    retriever = vectors.as_retriever()\n",
        "    retrieval_chain = create_retrieval_chain(retriever, document_chain)\n",
        "\n",
        "    response = retrieval_chain.invoke({'input': question})\n",
        "\n",
        "    return response['answer']\n"
      ],
      "metadata": {
        "id": "_cU7Ezwv48ot"
      },
      "execution_count": null,
      "outputs": []
    },
    {
      "cell_type": "code",
      "source": [
        "\n",
        "# Define the prompt template for handling reviews\n",
        "\n",
        "review_generating_prompt = PromptTemplate(\n",
        "    template=\"\"\"system\n",
        "    You are the draft Email Writer Agent. Use the INITIAL_EMAIL and EMAIL_CATEGORY and FAQ_answer to write a thoughtful assistance request response.\n",
        "    FAQ_answer contains the answer generated by a RAG pipeline. Your response should be based on and should be related FAQ_answer ONLY.\n",
        "\n",
        "    You response should be related to the objective of the FAQ_answer only.\n",
        "    If there is no proper answer for the INITIAL_EMAIL in given FAQ_answer then give a response stating that the issue will be escalated to customer service\n",
        "    Always sign off the email in an appropriate manner from XXXX, Customer Service.\n",
        "\n",
        "    Return the draft email as JSON with a single key 'draft_email' and no premable or explaination.\n",
        "\n",
        "    INITIAL_EMAIL: {initial_email} \\n\n",
        "    EMAIL_CATEGORY: {email_category} \\n\n",
        "    FAQ_answer: {FAQ_answer} \\n\n",
        "    assistant\"\"\",\n",
        "    input_variables=[\"initial_email\", \"email_category\", \"FAQ_answer\"],\n",
        ")\n",
        "\n",
        "\n",
        "# Generate the review handling response\n",
        "\n",
        "review_generator = review_generating_prompt | GROQ_LLM | StrOutputParser()\n"
      ],
      "metadata": {
        "id": "gTsE9-Wx5Gsk"
      },
      "execution_count": null,
      "outputs": []
    },
    {
      "cell_type": "code",
      "source": [
        "# Rewrite Email with Analysis\n",
        "\n",
        "final_email_prompt = PromptTemplate(\n",
        "    template=\"\"\"<|begin_of_text|><|start_header_id|>system<|end_header_id|>\n",
        "    You are the Final Email Agent read the INITIAL_EMAIL and EMAIL_CATEGORY and DRAFT_EMAIL\n",
        "    and use it to just rewrite the DRAFT_EMAIL to create a simple final email without removing or adding any other information that hasn't been given by the INITIAL_EMAIL and DRAFT_EMAIL..\n",
        "\n",
        "\n",
        "\n",
        "    Return the final response as JSON with a single key 'final_email' and no premable or explaination.\n",
        "\n",
        "    Always sign off the email in an appropriate manner from Jhon, Customer Service.\n",
        "\n",
        "    Only return the final email content\n",
        "    <|eot_id|><|start_header_id|>user<|end_header_id|>\n",
        "    INITIAL_EMAIL: {initial_email} \\n\\n\n",
        "    EMAIL_CATEGORY: {email_category} \\n\\n\n",
        "    DRAFT_EMAIL: {draft_email} \\n\\n\n",
        "    <|eot_id|><|start_header_id|>assistant<|end_header_id|\"\"\",\n",
        "    input_variables=[\"initial_email\",\n",
        "                     \"email_category\",\n",
        "                     \"draft_email\",\n",
        "                     ],\n",
        ")\n",
        "\n",
        "final_review_generator = final_email_prompt | GROQ_LLM | JsonOutputParser()\n"
      ],
      "metadata": {
        "id": "KHymZiXE5ddB"
      },
      "execution_count": null,
      "outputs": []
    },
    {
      "cell_type": "code",
      "source": [
        "import ipywidgets as widgets\n",
        "from IPython.display import display, clear_output\n",
        "\n",
        "# Define the text input and output widgets\n",
        "email_input = widgets.Textarea(\n",
        "    value='',\n",
        "    placeholder='Enter the email content here...',\n",
        "    description='Email:',\n",
        "    layout=widgets.Layout(width='100%', height='200px')\n",
        ")\n",
        "\n",
        "response_output = widgets.Output()\n",
        "\n",
        "def process_email(button):\n",
        "    # Clear previous output\n",
        "    with response_output:\n",
        "        clear_output()\n",
        "\n",
        "        email_content = email_input.value\n",
        "        if not email_content:\n",
        "            print(\"Please enter an email content.\")\n",
        "            return\n",
        "\n",
        "        # Categorize the email\n",
        "        email_category = email_category_generator.invoke({\"initial_email\": email_content})\n",
        "\n",
        "        # Check category and generate response\n",
        "        if email_category == 'product_enquiry':\n",
        "            # Extract product name\n",
        "            product_name = product_name_generator.invoke({\"initial_email\": email_content})\n",
        "            product_details = get_product_info(product_name)\n",
        "            formatted_product_details = {\n",
        "                'name': product_details['name'],\n",
        "                'available': product_details['available'],\n",
        "                'price': product_details.get('price'),\n",
        "                'similar_items': product_details.get('similar_items', [])\n",
        "            }\n",
        "\n",
        "            # Generate product review response\n",
        "            draft_email = product_review_generator.invoke({\n",
        "                \"initial_email\": email_content,\n",
        "                \"product_details\": formatted_product_details\n",
        "            })\n",
        "\n",
        "        elif email_category in ['positive_review_handling', 'negative_review_handling', 'general_handling']:\n",
        "            draft_email = draft_review_generator.invoke({\n",
        "                \"initial_email\": email_content,\n",
        "                \"email_category\": email_category\n",
        "            })\n",
        "\n",
        "        elif email_category == 'assistance_request_handling':\n",
        "            FAQ_answer = process_question(email_content)\n",
        "            draft_email = review_generator.invoke({\n",
        "                \"initial_email\": email_content,\n",
        "                \"email_category\": email_category,\n",
        "                \"FAQ_answer\": FAQ_answer\n",
        "            })\n",
        "\n",
        "        # Finalize email\n",
        "        final_email = final_review_generator.invoke({\n",
        "            \"initial_email\": email_content,\n",
        "            \"email_category\": email_category,\n",
        "            \"draft_email\": draft_email\n",
        "        })\n",
        "\n",
        "\n",
        "        print(f\"\\n{final_email.get('final_email', 'No response generated')}\")\n",
        "\n",
        "# Define the button widget\n",
        "process_button = widgets.Button(\n",
        "    description='Get Response',\n",
        "    button_style='success'\n",
        ")\n",
        "\n",
        "# Link the button to the callback function\n",
        "process_button.on_click(process_email)\n",
        "\n",
        "# Display the UI\n",
        "display(email_input, process_button, response_output)\n"
      ],
      "metadata": {
        "colab": {
          "base_uri": "https://localhost:8080/",
          "height": 419,
          "referenced_widgets": [
            "caeb684e9c344cddad06ffe8fe6ba5fa",
            "7920fea7c63b477ca432ad4623065c2b",
            "87317b220ba149b4b233970d7d1b9623",
            "7147dd7b70444cd2a888706459e295ed",
            "67bd565eb2c1416188dd66c87e6dfd1a",
            "ba4521f794924b95944754cc73fc019d",
            "68c780a4ba26459ba4f94871f81bd404",
            "dbe7c0ebaa46410bb38c4c8a543b7515"
          ]
        },
        "id": "5lMOcV-i5qE6",
        "outputId": "b3d679a9-65ec-4d82-cb3d-ab9183d25edb"
      },
      "execution_count": null,
      "outputs": [
        {
          "output_type": "display_data",
          "data": {
            "text/plain": [
              "Textarea(value='', description='Email:', layout=Layout(height='200px', width='100%'), placeholder='Enter the e…"
            ],
            "application/vnd.jupyter.widget-view+json": {
              "version_major": 2,
              "version_minor": 0,
              "model_id": "caeb684e9c344cddad06ffe8fe6ba5fa"
            }
          },
          "metadata": {}
        },
        {
          "output_type": "display_data",
          "data": {
            "text/plain": [
              "Button(button_style='success', description='Get Response', style=ButtonStyle())"
            ],
            "application/vnd.jupyter.widget-view+json": {
              "version_major": 2,
              "version_minor": 0,
              "model_id": "7147dd7b70444cd2a888706459e295ed"
            }
          },
          "metadata": {}
        },
        {
          "output_type": "display_data",
          "data": {
            "text/plain": [
              "Output()"
            ],
            "application/vnd.jupyter.widget-view+json": {
              "version_major": 2,
              "version_minor": 0,
              "model_id": "68c780a4ba26459ba4f94871f81bd404"
            }
          },
          "metadata": {}
        }
      ]
    },
    {
      "cell_type": "code",
      "source": [],
      "metadata": {
        "id": "NMXiVQnf55ps"
      },
      "execution_count": null,
      "outputs": []
    }
  ]
}